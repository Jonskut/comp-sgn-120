{
 "cells": [
  {
   "cell_type": "code",
   "execution_count": 1,
   "id": "20043c6d",
   "metadata": {},
   "outputs": [],
   "source": [
    "import numpy as np\n",
    "import matplotlib.pyplot as plt\n",
    "from scipy.fftpack import fft,dct\n",
    "import librosa\n",
    "from scipy import signal\n",
    "import soundfile as sf"
   ]
  },
  {
   "cell_type": "markdown",
   "id": "a624f550",
   "metadata": {},
   "source": [
    "### 1. Mel filterbank (1 point)"
   ]
  },
  {
   "cell_type": "markdown",
   "id": "c43daa12",
   "metadata": {},
   "source": [
    "#### a) Load the given audio file"
   ]
  },
  {
   "cell_type": "code",
   "execution_count": 10,
   "id": "80167f0b",
   "metadata": {},
   "outputs": [],
   "source": [
    "s, sr = librosa.load('audio.wav', sr=None)\n"
   ]
  },
  {
   "cell_type": "markdown",
   "id": "688f8166",
   "metadata": {},
   "source": [
    "#### b) Create a mel filterbank using librosa"
   ]
  },
  {
   "cell_type": "code",
   "execution_count": 8,
   "id": "5f2013c7",
   "metadata": {},
   "outputs": [],
   "source": [
    "# sr already obtained from a)\n",
    "n_fft = 512\n",
    "n_mel = 40\n",
    "melfb = librosa.filters.mel(sr=sr, n_fft=n_fft, n_mels=n_mel)"
   ]
  },
  {
   "cell_type": "markdown",
   "id": "f55c7150",
   "metadata": {},
   "source": [
    "#### c) Plot the mel filterbank"
   ]
  },
  {
   "cell_type": "code",
   "execution_count": 9,
   "id": "caf2243e",
   "metadata": {},
   "outputs": [
    {
     "data": {
      "text/plain": [
       "<matplotlib.colorbar.Colorbar at 0x217ca3769f0>"
      ]
     },
     "execution_count": 9,
     "metadata": {},
     "output_type": "execute_result"
    },
    {
     "data": {
      "image/png": "[encoded data removed]",
      "text/plain": [
       "<Figure size 640x480 with 2 Axes>"
      ]
     },
     "metadata": {},
     "output_type": "display_data"
    }
   ],
   "source": [
    "fig, ax = plt.subplots()\n",
    "\n",
    "img = librosa.display.specshow(melfb, x_axis='linear', ax=ax)\n",
    "\n",
    "ax.set(ylabel='Mel filter', title='Mel filter bank')\n",
    "\n",
    "fig.colorbar(img, ax=ax)"
   ]
  },
  {
   "cell_type": "markdown",
   "id": "06218ba4",
   "metadata": {},
   "source": [
    "#### Report your observations"
   ]
  },
  {
   "cell_type": "markdown",
   "id": "0dfc3b4b",
   "metadata": {},
   "source": [
    "The mel filterbank frequency scale grows logarithmically in relation to the frequency in hz.\n",
    "The intensity is higher as the frequency lowers."
   ]
  },
  {
   "cell_type": "markdown",
   "id": "45ce0cd1",
   "metadata": {},
   "source": [
    "### 2. MFCC (1 point)"
   ]
  },
  {
   "cell_type": "markdown",
   "id": "1d9751e1",
   "metadata": {},
   "source": [
    "#### a) Pre-emphasis the audio signal"
   ]
  },
  {
   "cell_type": "code",
   "execution_count": 11,
   "id": "f07b5d87",
   "metadata": {},
   "outputs": [],
   "source": [
    "pre_emphasis = 0.97\n",
    "s_ = np.append(s[0], s[1:] - pre_emphasis * s[:-1])"
   ]
  },
  {
   "cell_type": "markdown",
   "id": "4174233a",
   "metadata": {},
   "source": [
    "#### b) Implement a stft loop for each frame "
   ]
  },
  {
   "cell_type": "code",
   "execution_count": 18,
   "id": "2fb41317",
   "metadata": {},
   "outputs": [],
   "source": [
    "n_frames = len(s_) // n_fft\n",
    "window = signal.windows.hamming(n_fft)\n",
    "\n",
    "mfccs = np.zeros((40, n_frames), dtype=np.float32)\n",
    "\n",
    "for i in range(n_frames):\n",
    "    start = i * n_fft\n",
    "    end = start + n_fft\n",
    "    s_seg = s_[start:end] # Extract each frame\n",
    "    if len(s_seg) < n_fft:\n",
    "        break\n",
    "    s_win_seg = s_seg * window # Window each frame using hamming window\n",
    "    spectrum = fft(s_win_seg) # Calculate fft\n",
    "    spectrum = np.abs(spectrum[:n_fft//2+1])**2 # Collect the power spectrum\n",
    "    mel_spectro = np.dot(melfb, spectrum) # Multiply it with the mel filterbank\n",
    "    log_mel_spectrum = 20 * np.log10(mel_spectro + 1e-10) # Take log operation\n",
    "    mfcc = dct(log_mel_spectrum, type=2, axis=0, norm='ortho')[:40] # Take DCT and keep 40 coefficients\n",
    "    mfccs[:, i] = mfcc # Store the MFCCs\n",
    " "
   ]
  },
  {
   "cell_type": "markdown",
   "id": "7739bea8",
   "metadata": {},
   "source": [
    "#### c.1) Plot logarithmic power spectrogram"
   ]
  },
  {
   "cell_type": "code",
   "execution_count": null,
   "id": "4b0a71cf",
   "metadata": {},
   "outputs": [],
   "source": [
    "# Plot logarithmic power spectrogram\n",
    "fig, ax = plt.subplots()"
   ]
  },
  {
   "cell_type": "markdown",
   "id": "11ff985f",
   "metadata": {},
   "source": [
    "#### c.2) Plot mel spectrogram"
   ]
  },
  {
   "cell_type": "code",
   "execution_count": null,
   "id": "b32f133f",
   "metadata": {},
   "outputs": [],
   "source": []
  },
  {
   "cell_type": "markdown",
   "id": "fbac1d62",
   "metadata": {},
   "source": [
    "#### c.3) Plot logarithmic mel spectrogram"
   ]
  },
  {
   "cell_type": "code",
   "execution_count": null,
   "id": "55092eb6",
   "metadata": {},
   "outputs": [],
   "source": []
  },
  {
   "cell_type": "markdown",
   "id": "54dfc9cf",
   "metadata": {},
   "source": [
    "#### c.4) Plot MFCC"
   ]
  },
  {
   "cell_type": "code",
   "execution_count": null,
   "id": "8ffc5c79",
   "metadata": {},
   "outputs": [],
   "source": []
  },
  {
   "cell_type": "markdown",
   "id": "eda06ff4",
   "metadata": {},
   "source": [
    "#### d) Implement MFCC using librosa"
   ]
  },
  {
   "cell_type": "code",
   "execution_count": null,
   "id": "f261d22a",
   "metadata": {},
   "outputs": [],
   "source": []
  },
  {
   "cell_type": "markdown",
   "id": "fd5f565a",
   "metadata": {},
   "source": [
    "#### Report your observations"
   ]
  },
  {
   "cell_type": "code",
   "execution_count": null,
   "id": "6ee4bcf8",
   "metadata": {},
   "outputs": [],
   "source": []
  },
  {
   "cell_type": "markdown",
   "id": "f649e445",
   "metadata": {},
   "source": [
    "### Bonus problem: Implement your own mel filterbank."
   ]
  },
  {
   "cell_type": "code",
   "execution_count": null,
   "id": "cd29ccd5",
   "metadata": {},
   "outputs": [],
   "source": []
  }
 ],
 "metadata": {
  "kernelspec": {
   "display_name": "base",
   "language": "python",
   "name": "python3"
  },
  "language_info": {
   "codemirror_mode": {
    "name": "ipython",
    "version": 3
   },
   "file_extension": ".py",
   "mimetype": "text/x-python",
   "name": "python",
   "nbconvert_exporter": "python",
   "pygments_lexer": "ipython3",
   "version": "3.12.4"
  }
 },
 "nbformat": 4,
 "nbformat_minor": 5
}
