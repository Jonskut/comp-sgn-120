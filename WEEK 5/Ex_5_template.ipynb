{
 "cells": [
  {
   "cell_type": "code",
   "execution_count": null,
   "id": "20043c6d",
   "metadata": {},
   "outputs": [],
   "source": [
    "import numpy as np\n",
    "import matplotlib.pyplot as plt\n",
    "from scipy.fftpack import fft,dct\n",
    "import librosa\n",
    "from scipy import signal\n",
    "import soundfile as sf"
   ]
  },
  {
   "cell_type": "markdown",
   "id": "a624f550",
   "metadata": {},
   "source": [
    "### 1. Mel filterbank (1 point)"
   ]
  },
  {
   "cell_type": "markdown",
   "id": "c43daa12",
   "metadata": {},
   "source": [
    "#### a) Load the given audio file"
   ]
  },
  {
   "cell_type": "code",
   "execution_count": null,
   "id": "80167f0b",
   "metadata": {},
   "outputs": [],
   "source": []
  },
  {
   "cell_type": "markdown",
   "id": "688f8166",
   "metadata": {},
   "source": [
    "#### b) Create a mel filterbank using librosa"
   ]
  },
  {
   "cell_type": "code",
   "execution_count": null,
   "id": "5f2013c7",
   "metadata": {},
   "outputs": [],
   "source": [
    "sr = # from a)\n",
    "n_fft=512\n",
    "n_mel = 40"
   ]
  },
  {
   "cell_type": "markdown",
   "id": "f55c7150",
   "metadata": {},
   "source": [
    "#### c) Plot the mel filterbank"
   ]
  },
  {
   "cell_type": "code",
   "execution_count": null,
   "id": "caf2243e",
   "metadata": {},
   "outputs": [],
   "source": []
  },
  {
   "cell_type": "markdown",
   "id": "06218ba4",
   "metadata": {},
   "source": [
    "#### Report your observations"
   ]
  },
  {
   "cell_type": "code",
   "execution_count": null,
   "id": "dd6ce5df",
   "metadata": {},
   "outputs": [],
   "source": []
  },
  {
   "cell_type": "markdown",
   "id": "45ce0cd1",
   "metadata": {},
   "source": [
    "### 2. MFCC (1 point)"
   ]
  },
  {
   "cell_type": "markdown",
   "id": "1d9751e1",
   "metadata": {},
   "source": [
    "#### a) Pre-emphasis the audio signal"
   ]
  },
  {
   "cell_type": "code",
   "execution_count": null,
   "id": "f07b5d87",
   "metadata": {},
   "outputs": [],
   "source": [
    "pre_emphasis = 0.97\n",
    "s_ = np.append(s[0], s[1:] - pre_emphasis * s[:-1])"
   ]
  },
  {
   "cell_type": "markdown",
   "id": "4174233a",
   "metadata": {},
   "source": [
    "#### b) Implement a stft loop for each frame "
   ]
  },
  {
   "cell_type": "code",
   "execution_count": null,
   "id": "2fb41317",
   "metadata": {},
   "outputs": [],
   "source": [
    "n_frames=\n",
    "mfccs = np.zeros((40,n_frames),dtype=np.float32)\n",
    "\n",
    "for i in np.arange(0,n_frames):   \n",
    "    s_seg =         \n",
    "    s_win_seg = # Window each frame using hamming window    \n",
    "    spectrum  = # Calculate fft\n",
    "    spectrum=spectrum[:n_fft//2+1] \n",
    "    power_spectrum = # Collect the power spectrum\n",
    "    power_spectro[:,i] = \n",
    "    mel_spectro= # Multiply it with the mel filterbank \n",
    "    log_mel_spectrum = # Take log operation\n",
    "    mfcc = # Apply DCT\n",
    " "
   ]
  },
  {
   "cell_type": "markdown",
   "id": "7739bea8",
   "metadata": {},
   "source": [
    "#### c.1) Plot logarithmic power spectrogram"
   ]
  },
  {
   "cell_type": "code",
   "execution_count": null,
   "id": "4b0a71cf",
   "metadata": {},
   "outputs": [],
   "source": []
  },
  {
   "cell_type": "markdown",
   "id": "11ff985f",
   "metadata": {},
   "source": [
    "#### c.2) Plot mel spectrogram"
   ]
  },
  {
   "cell_type": "code",
   "execution_count": null,
   "id": "b32f133f",
   "metadata": {},
   "outputs": [],
   "source": []
  },
  {
   "cell_type": "markdown",
   "id": "fbac1d62",
   "metadata": {},
   "source": [
    "#### c.3) Plot logarithmic mel spectrogram"
   ]
  },
  {
   "cell_type": "code",
   "execution_count": null,
   "id": "55092eb6",
   "metadata": {},
   "outputs": [],
   "source": []
  },
  {
   "cell_type": "markdown",
   "id": "54dfc9cf",
   "metadata": {},
   "source": [
    "#### c.4) Plot MFCC"
   ]
  },
  {
   "cell_type": "code",
   "execution_count": null,
   "id": "8ffc5c79",
   "metadata": {},
   "outputs": [],
   "source": []
  },
  {
   "cell_type": "markdown",
   "id": "eda06ff4",
   "metadata": {},
   "source": [
    "#### d) Implement MFCC using librosa"
   ]
  },
  {
   "cell_type": "code",
   "execution_count": null,
   "id": "f261d22a",
   "metadata": {},
   "outputs": [],
   "source": []
  },
  {
   "cell_type": "markdown",
   "id": "fd5f565a",
   "metadata": {},
   "source": [
    "#### Report your observations"
   ]
  },
  {
   "cell_type": "code",
   "execution_count": null,
   "id": "6ee4bcf8",
   "metadata": {},
   "outputs": [],
   "source": []
  },
  {
   "cell_type": "markdown",
   "id": "f649e445",
   "metadata": {},
   "source": [
    "### Bonus problem: Implement your own mel filterbank."
   ]
  },
  {
   "cell_type": "code",
   "execution_count": null,
   "id": "cd29ccd5",
   "metadata": {},
   "outputs": [],
   "source": []
  }
 ],
 "metadata": {
  "kernelspec": {
   "display_name": "Python 3",
   "language": "python",
   "name": "python3"
  },
  "language_info": {
   "codemirror_mode": {
    "name": "ipython",
    "version": 3
   },
   "file_extension": ".py",
   "mimetype": "text/x-python",
   "name": "python",
   "nbconvert_exporter": "python",
   "pygments_lexer": "ipython3",
   "version": "3.6.13"
  }
 },
 "nbformat": 4,
 "nbformat_minor": 5
}
